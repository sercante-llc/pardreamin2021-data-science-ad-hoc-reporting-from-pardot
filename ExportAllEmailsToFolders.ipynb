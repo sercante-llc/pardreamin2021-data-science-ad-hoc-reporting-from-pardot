{
 "cells": [
  {
   "cell_type": "markdown",
   "id": "ced7d4df-a6c0-4da3-b64c-9462bdb44400",
   "metadata": {},
   "source": [
    "# Get emails sent\n",
    "Save each email to a folder with both HTML and TEXT versions along with a .csv file of all recipeints\n"
   ]
  },
  {
   "cell_type": "markdown",
   "id": "503738a8-6796-481d-a039-ce22ddbf8bac",
   "metadata": {},
   "source": [
    "## Configuration\n",
    "We need some login details, we can pull in a config file or set some variables.\n",
    "https://towardsdatascience.com/keeping-credentials-safe-in-jupyter-notebooks-fbd215a8e311\n",
    "\n",
    "Provide a file name in \"config_file\" or provide values in the individual variables. The config file will override the listed variables.\n",
    "\n",
    "If we have a list of export IDs we wish to use, we can use those."
   ]
  },
  {
   "cell_type": "code",
   "execution_count": null,
   "id": "66419ef2-344c-41e8-8015-5c51a776d0db",
   "metadata": {
    "tags": []
   },
   "outputs": [],
   "source": [
    "cfg = {'pardot_api_creds':{}} # dictionary of configruation details, ignore this here\n",
    "\n",
    "#provide a value for \n",
    "\n",
    "config_file = \"pardotlogin.ipynb\" \n",
    "\n",
    "# OR all of the below\n",
    "\n",
    "cfg['pardot_api_creds']['PardotOath_Client_id'] = \"\"\n",
    "cfg['pardot_api_creds']['PardotOath_client_secret'] = \"\"\n",
    "cfg['pardot_api_creds']['PardotOath_username'] = \"\"\n",
    "cfg['pardot_api_creds']['PardotOath_password'] = \"\"\n",
    "cfg['pardot_api_creds']['PardotOath_token'] = \"\"\n",
    "\n",
    "cfg['pardot_api_creds']['PardotURL'] = \"\"\n",
    "cfg['pardot_api_creds']['apiversion'] = \"\"\n",
    "\n",
    "\n",
    "\n",
    "exportids=[1276, 1278, 1280] # list of ids to use, leave blank to autocreate  [1276, 1278, 1280]\n"
   ]
  },
  {
   "cell_type": "markdown",
   "id": "3000202f-125d-4708-9001-1f6f3a3886db",
   "metadata": {
    "tags": []
   },
   "source": [
    "## Code Setup\n",
    "Making sure we have login details, getting a Pardot API library, logging in, and also setting some number formatting so our IDs read well."
   ]
  },
  {
   "cell_type": "code",
   "execution_count": null,
   "id": "1119c50c-10f9-49e2-a757-a1c10a79c4d3",
   "metadata": {
    "tags": []
   },
   "outputs": [],
   "source": [
    "# get the login details\n",
    "\n",
    "if config_file:\n",
    "    \"\"\"Ovrride any manually entered config above\"\"\"\n",
    "    %run $config_file\n",
    "\n",
    "\n",
    "# Pull in a Pardot API common library\n",
    "%run ./PardotAPI.ipynb\n",
    "\n",
    "\n",
    "#Log into Pardot\n",
    "access_token = PardotLogin()\n",
    "\n",
    "pd.options.display.float_format = '{:.0f}'.format # Get rid of adding trailing zeros to our numbers"
   ]
  },
  {
   "cell_type": "markdown",
   "id": "8cb9b37c-8e58-4f54-868a-6a60102cb093",
   "metadata": {},
   "source": [
    "## Create an export of all the Emails Sent\n",
    "Because the export has a limit of 1 year of data per export, we get the Pardot account creation date and create an export file for every year the account has existed. Easy to forget to get all the years when a new year comes to be.\n"
   ]
  },
  {
   "cell_type": "code",
   "execution_count": null,
   "id": "7c77033c-de7b-45fd-8c20-846860359649",
   "metadata": {
    "tags": []
   },
   "outputs": [],
   "source": [
    "PardotAccount = PardotAccountRead()\n",
    "\n",
    "if not exportids:\n",
    "    years = range(int(PardotAccount['account']['created_at'][ 0 : 4 ]),2021+1) #stops before the specified number\n",
    "    years_list = list(years)\n",
    "\n",
    "    for i in years_list:\n",
    "\n",
    "        url = cfg['pardot_api_creds']['PardotURL'] +\"/api/export/version/\"+ str(cfg['pardot_api_creds']['apiversion']) +\"/do/create?format=json\"\n",
    "\n",
    "        payload = json.dumps({\n",
    "          \"object\": \"visitorActivity\",\n",
    "          \"procedure\": {\n",
    "            \"name\": \"filter_by_created_at\",\n",
    "            \"arguments\": {\n",
    "              \"created_after\": str(i)+\"-01-01 00:00:00\",\n",
    "              \"created_before\": str(i)+\"-12-31 23:59:59\"\n",
    "            }\n",
    "          }\n",
    "        })\n",
    "        headers = {\n",
    "          'Content-Type': 'application/json',\n",
    "          'Authorization': 'Bearer ' + access_token,\n",
    "          'Pardot-Business-Unit-Id': cfg['pardot_api_creds']['PardotBusinesUnitID'],\n",
    "        }\n",
    "\n",
    "        response = requests.request(\"POST\", url, headers=headers, data=payload)\n",
    "        response_dict = json.loads(response.text)\n",
    "        exportids.append(response_dict['export']['id'])\n",
    "\n",
    "        print(response.text)"
   ]
  },
  {
   "cell_type": "code",
   "execution_count": null,
   "id": "167d746a-ca09-4730-b6bf-a2a549fc7f44",
   "metadata": {},
   "outputs": [],
   "source": [
    "emailstemplates"
   ]
  },
  {
   "cell_type": "markdown",
   "id": "64ec7f33-f6b2-44d8-837e-5c15e8bbe372",
   "metadata": {
    "tags": []
   },
   "source": [
    "### Read the export\n",
    "Loop the export results and get data.\n",
    "Note that there is a number of commented out options. We often need to get different things, and it's easy to uncomment the thing that we want, and comment out those that we don't so we don't need to look eveyrthing up again."
   ]
  },
  {
   "cell_type": "code",
   "execution_count": null,
   "id": "5b0ff12b-4051-4811-97c8-05ac4bfe1b84",
   "metadata": {
    "tags": []
   },
   "outputs": [],
   "source": [
    "df = pd.DataFrame() # Pandas Datafame library  - import pandas as pd \n",
    "\n",
    "filelimit = None #1 # None or an int - This is used to limit impact while extending code so we aren't sucking in ALL the data everytime\n",
    "filecount = 0\n",
    "\n",
    "for exportid in exportids:\n",
    "    print (exportid)\n",
    "    FileURLs = PardotGetExportFilesURLList()    \n",
    "    #print(FileURLs)\n",
    "    for fileURL in FileURLs:\n",
    "        print(fileURL)\n",
    "        temp = PardotDownloadFileURL(fileURL)\n",
    "        #temp = temp[temp.email_template_id.notnull()]\n",
    "        #temp = temp[temp.email_id.notnull()]\n",
    "        \n",
    "        \n",
    "        if '<?xml version=\"1.0\" encoding=\"UTF-8\"?>' in temp.columns:\n",
    "            temp.drop(columns=['custom_redirect_id', 'file_id', 'form_id', 'form_handler_id','landing_page_id','multivariate_test_variation_id', 'opportunity_id','paid_search_ad_id','site_search_query_id','visit_id','visitor_id', 'visitor_page_view_id','<?xml version=\"1.0\" encoding=\"UTF-8\"?>'], inplace=True)\n",
    "        else:\n",
    "            temp.drop(columns=['custom_redirect_id', 'file_id', 'form_id', 'form_handler_id','landing_page_id','multivariate_test_variation_id', 'opportunity_id','paid_search_ad_id','site_search_query_id','visit_id','visitor_id', 'visitor_page_view_id'], inplace=True)\n",
    "\n",
    "        df = df.append(temp)\n",
    "  \n",
    "        filecount +=1\n",
    "        if filelimit:\n",
    "            if filelimit <= filecount:\n",
    "                break\n",
    "    if filelimit:\n",
    "        if filelimit <= filecount:\n",
    "            break\n",
    "\n",
    "df.shape\n",
    "#temp"
   ]
  },
  {
   "cell_type": "markdown",
   "id": "60bd83b7-9d0e-4494-ba87-e00d7c72c16d",
   "metadata": {},
   "source": [
    "## Sort the data\n",
    "Sort by created_at so we create the folder on the first send date of the email"
   ]
  },
  {
   "cell_type": "code",
   "execution_count": null,
   "id": "b79bcb18-c08b-4db2-a3af-421c8bf41c1b",
   "metadata": {},
   "outputs": [],
   "source": [
    "# sort the dataframe\n",
    "df.sort_values(by=['created_at'],  inplace=True)\n",
    "# set the index to be this and don't drop\n",
    "df.set_index(keys=['created_at'], drop=False,inplace=True)\n",
    "\n",
    "#df.head(10)"
   ]
  },
  {
   "cell_type": "markdown",
   "id": "c67cd8d9-e650-404f-b29d-0cc9036cf87c",
   "metadata": {},
   "source": [
    "## Get just the List Email IDs"
   ]
  },
  {
   "cell_type": "code",
   "execution_count": null,
   "id": "c23a90b4-e666-40a7-9f4d-a2d19132bfe2",
   "metadata": {},
   "outputs": [],
   "source": [
    "# get a list of email template IDs\n",
    "emails=df['list_email_id'].unique().tolist()\n",
    "emailstemplates=df[df['list_email_id'].isna()]['email_template_id'].unique().tolist()\n",
    "\n",
    "#emailstemplates"
   ]
  },
  {
   "cell_type": "code",
   "execution_count": null,
   "id": "7ab41c4e-7866-4942-bd75-4ce7ba667113",
   "metadata": {
    "tags": []
   },
   "outputs": [],
   "source": [
    "import matplotlib.pyplot as plt\n",
    "# if using a Jupyter notebook, include:\n",
    "%matplotlib inline\n",
    "\n",
    "# Pie chart, where the slices will be ordered and plotted counter-clockwise:\n",
    "labels = [ str(Prospects.count())+' Prospects', str(Leads.count())+' Leads', str(Contacts.count())+' Contacts']\n",
    "sizes = [Prospects.count(), Leads.count() , Contacts.count()]\n",
    "\n",
    "\n",
    "fig, ax = plt.subplots()\n",
    "ax.pie(sizes, labels=labels, autopct='%1.1f%%')\n",
    "ax.axis('equal')  # Equal aspect ratio ensures the pie chart is circular.\n",
    "ax.set_title('Bounced Emails by Record Types')\n",
    "\n",
    "\n",
    "plt.show()\n"
   ]
  },
  {
   "cell_type": "markdown",
   "id": "db2dbe18-57be-465d-bc83-4cbd77130574",
   "metadata": {
    "tags": []
   },
   "source": [
    "## Safe file folder creation\n",
    "Create folders if we need to automatically"
   ]
  },
  {
   "cell_type": "code",
   "execution_count": null,
   "id": "c8132aed-f7f5-4685-bce5-99bbf0ce4882",
   "metadata": {
    "tags": []
   },
   "outputs": [],
   "source": [
    "# Taken from https://stackoverflow.com/a/600612/119527\n",
    "def mkdir_p(path):\n",
    "    try:\n",
    "        os.makedirs(path)\n",
    "    except OSError as exc: # Python >2.5\n",
    "        if exc.errno == errno.EEXIST and os.path.isdir(path):\n",
    "            pass\n",
    "        else: raise\n",
    "\n",
    "def safe_open_w(path):\n",
    "    ''' Open \"path\" for writing, creating any parent directories as needed.\n",
    "    '''\n",
    "    mkdir_p(os.path.dirname(path))\n",
    "    return open(path, 'w', encoding='utf-8')"
   ]
  },
  {
   "cell_type": "markdown",
   "id": "b5e225e5-f348-4810-8a4a-0932c36b0290",
   "metadata": {},
   "source": [
    "## Write out data\n",
    "Write different fields for each type."
   ]
  },
  {
   "cell_type": "code",
   "execution_count": null,
   "id": "ac5f730c-f20b-4b6a-95ab-2f14f8040e9c",
   "metadata": {},
   "outputs": [],
   "source": [
    "dt = date.today().strftime( '%Y-%m-%d')\n",
    "AccountName = PardotAccount['account']['company'].replace(\" \", \"\")\n",
    "\n",
    "\n",
    "for email in emails:\n",
    "    if not pd.isna(email):\n",
    "        \n",
    "        #pull the created date from the first record on list\n",
    "        dt = datetime.strptime(df.loc[df.list_email_id==email].iloc[0]['created_at'], '%Y-%m-%d %H:%M:%S')\n",
    "        \n",
    "        with safe_open_w(AccountName+'/listemails/'+str(dt.year)+'/'+str(dt.month)+'/'+str(int(email))+\"/\"+str(int(email))+\".csv\") as f:\n",
    "            df.loc[df.list_email_id==email].to_csv(f, sep=\",\", float_format='%.2f',index=False, line_terminator='\\n',encoding='utf-8')\n",
    "\n",
    "            \n",
    "\n",
    "        response_dict = PardotEmailRead()\n",
    "        \n",
    "        if response_dict.get('email'):\n",
    "            if response_dict['email']['message']['html']:\n",
    " \n",
    "                if response_dict['email']['message']['html']:\n",
    "                    with safe_open_w((AccountName+'/listemails/'+str(dt.year)+'/'+str(dt.month)+'/'+str(int(email))+\"/\"+str(int(email))+\".html\") as f:\n",
    "                        f.write(response_dict['email']['message']['html'])\n",
    "                if response_dict['email']['message']['text']:\n",
    "                    with safe_open_w((AccountName+'/listemails/'+str(dt.year)+'/'+str(dt.month)+'/'+str(int(email))+\"/\"+str(int(email))+\".text\") as f:\n",
    "                        f.write(response_dict['email']['message']['text'])\n",
    "            else:\n",
    "                #print(response.text)\n",
    "                #print(df.loc[df.list_email_id==email].iloc[0]['email_template_id'])\n",
    "\n",
    "                if not pd.isna(df.loc[df.list_email_id==email].iloc[0]['email_template_id']):\n",
    "                    response_dict = PardotEmailtemplateRead()       \n",
    "                    if response_dict.get('emailTemplate'):\n",
    "                        if response_dict['emailTemplate']['htmlMessage']:\n",
    "                            with safe_open_w((AccountName+'/listemails/'+str(dt.year)+'/'+str(dt.month)+'/'+str(int(email))+\"/\"+str(int(email))+\".html\") as f:\n",
    "                                f.write(response_dict['emailTemplate']['htmlMessage'])\n",
    "                        if response_dict['emailTemplate']['textMessage']:\n",
    "                            with safe_open_w((AccountName+'/listemails/'+str(dt.year)+'/'+str(dt.month)+'/'+str(int(email))+\"/\"+str(int(email))+\".text\") as f:\n",
    "                                f.write(response_dict['emailTemplate']['textMessage'])\n",
    "                    else:\n",
    "                        print(\"missing emailtemplate body\")\n",
    "                        print(email)\n",
    "                        print(response_dict)\n",
    "\n",
    "                else:\n",
    "                    print(email)\n",
    "                    print(df.loc[df.list_email_id==email].iloc[0]['email_template_id'])\n",
    "                        \n",
    "        else:\n",
    "            print(\"missing email body\")\n",
    "            print(email)\n",
    "            print(response_dict)\n"
   ]
  },
  {
   "cell_type": "code",
   "execution_count": null,
   "id": "ac5b53ed-ef54-403c-b026-937ce7c50b62",
   "metadata": {},
   "outputs": [],
   "source": [
    "for emailtemplate in emailstemplates:\n",
    "    if not pd.isna(emailtemplate):\n",
    "        #pull the created date from the first record on list\n",
    "        dt = datetime.strptime(df.loc[df.email_template_id==emailtemplate].iloc[0]['created_at'], '%Y-%m-%d %H:%M:%S')\n",
    "\n",
    "        #print(str(int(emailtemplate)))\n",
    "        #print(df.loc[df.email_template_id==emailtemplate])\n",
    "        #print(df.loc[df.email_template_id==emailtemplate].iloc[0]['email_template_id'])\n",
    "\n",
    "        \n",
    "        with safe_open_w(AccountName+'/emailtemplates/'+str(dt.year)+'/'+str(dt.month)+'/'+str(int(emailtemplate))+\"/\"+str(int(emailtemplate))+\".csv\") as f:\n",
    "            df.loc[df.email_template_id==emailtemplate].to_csv(f, sep=\",\", float_format='%.2f',index=False, line_terminator='\\n',encoding='utf-8')\n",
    "\n",
    "            \n",
    "        import csv\n",
    "\n",
    "        with open(AccountName+'/emailtemplates/'+str(dt.year)+'/'+str(dt.month)+'/'+str(int(emailtemplate))+\"/\"+str(int(emailtemplate))+\".csv\", 'r', encoding=\"utf8\") as fin, open('fout.csv', 'w', newline='') as fout:\n",
    "\n",
    "            # define reader and writer objects\n",
    "            reader = csv.reader(fin, skipinitialspace=True)\n",
    "            writer = csv.writer(fout, delimiter=',')\n",
    "\n",
    "            # write headers\n",
    "            writer.writerow(next(reader))\n",
    "\n",
    "            # iterate and write rows based on condition\n",
    "            for i in reader:\n",
    "                #print(i)\n",
    "                if not i[7]:\n",
    "                    writer.writerow(i)\n",
    "            \n",
    "          \n",
    "        from shutil import move\n",
    "        move('fout.csv', AccountName+'/emailtemplates/'+str(dt.year)+'/'+str(dt.month)+'/'+str(int(emailtemplate))+\"/\"+str(int(emailtemplate))+\".csv\")\n",
    "        \n",
    "        #if not pd.isna(df.loc[df.email_template_id==emailtemplate].iloc[0]['email_template_id']):\n",
    "        if not pd.isna(emailtemplate):\n",
    "\n",
    "            response_dict = PardotEmailtemplate2Read()\n",
    "                        \n",
    "            if response_dict.get('emailTemplate'):\n",
    "                if response_dict['emailTemplate']['htmlMessage']:\n",
    "                    with safe_open_w(AccountName+'/emailtemplates/'+str(dt.year)+'/'+str(dt.month)+'/'+str(int(emailtemplate))+\"/\"+str(int(emailtemplate))+\".html\") as f:\n",
    "                        f.write(response_dict['emailTemplate']['htmlMessage'])\n",
    "                if response_dict['emailTemplate']['textMessage']:\n",
    "                    with safe_open_w(AccountName+'/emailtemplates/'+str(dt.year)+'/'+str(dt.month)+'/'+str(int(emailtemplate))+\"/\"+str(int(emailtemplate))+\".text\") as f:\n",
    "                        f.write(response_dict['emailTemplate']['textMessage'])\n",
    "            else:\n",
    "                print(response_dict)\n",
    "        else:\n",
    "            print(emailtemplate)\n",
    "            print(df.loc[df.email_template_id==emailtemplate].iloc[0]['email_template_id'])\n"
   ]
  },
  {
   "cell_type": "code",
   "execution_count": null,
   "id": "7be91b88-3e1a-4d0b-845d-aa67d4b538e1",
   "metadata": {},
   "outputs": [],
   "source": [
    "print(\"Complete - Records: \",len(response_dict))"
   ]
  }
 ],
 "metadata": {
  "kernelspec": {
   "display_name": "Python 3 (ipykernel)",
   "language": "python",
   "name": "python3"
  },
  "language_info": {
   "codemirror_mode": {
    "name": "ipython",
    "version": 3
   },
   "file_extension": ".py",
   "mimetype": "text/x-python",
   "name": "python",
   "nbconvert_exporter": "python",
   "pygments_lexer": "ipython3",
   "version": "3.8.12"
  },
  "toc-autonumbering": false,
  "toc-showcode": false,
  "toc-showmarkdowntxt": false,
  "toc-showtags": false
 },
 "nbformat": 4,
 "nbformat_minor": 5
}
