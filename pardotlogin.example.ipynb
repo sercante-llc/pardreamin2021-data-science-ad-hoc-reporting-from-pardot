{
 "cells": [
  {
   "cell_type": "markdown",
   "id": "1a6c2f95-7246-476d-b4ed-9229c4c3a39a",
   "metadata": {},
   "source": [
    "# Configuration Details\n",
    "Login information help can be found at \n",
    "* https://developer.salesforce.com/docs/marketing/pardot/guide/authentication.html\n",
    "* https://thespotforpardot.com/2020/09/23/pardot-api-and-getting-ready-with-salesforce-sso-users/ "
   ]
  },
  {
   "cell_type": "code",
   "execution_count": null,
   "id": "26b0aaa6-a9ce-4fee-8e01-0fb82332cc34",
   "metadata": {},
   "outputs": [],
   "source": [
    "cfg['pardot_api_creds']['PardotOath_username'] = \"\"\n",
    "cfg['pardot_api_creds']['PardotOath_password'] = \"\"\n",
    "cfg['pardot_api_creds']['PardotOath_token'] = \"\" # AKA Salesforce Security Token recieved by email\n",
    "\n",
    "cfg['pardot_api_creds']['PardotOath_Client_id'] = \"\"\n",
    "cfg['pardot_api_creds']['PardotOath_client_secret'] = \"\"\n",
    "cfg['pardot_api_creds']['PardotBusinesUnitID'] = \"\"\n",
    "\n",
    "cfg['pardot_api_creds']['PardotURL'] = \"http://pi.demo.pardot.com\"  # http://pi.pardot.com  http://pi.demo.pardot.com \n",
    "cfg['pardot_api_creds']['apiversion'] = \"4\" # 3(no AMPSEA) or 4(AMPSEA)"
   ]
  },
  {
   "cell_type": "code",
   "execution_count": null,
   "id": "52dcf2c3-9516-490e-8562-7a815ac3ef1a",
   "metadata": {},
   "outputs": [],
   "source": []
  }
 ],
 "metadata": {
  "kernelspec": {
   "display_name": "Python 3 (ipykernel)",
   "language": "python",
   "name": "python3"
  },
  "language_info": {
   "codemirror_mode": {
    "name": "ipython",
    "version": 3
   },
   "file_extension": ".py",
   "mimetype": "text/x-python",
   "name": "python",
   "nbconvert_exporter": "python",
   "pygments_lexer": "ipython3",
   "version": "3.8.12"
  }
 },
 "nbformat": 4,
 "nbformat_minor": 5
}
